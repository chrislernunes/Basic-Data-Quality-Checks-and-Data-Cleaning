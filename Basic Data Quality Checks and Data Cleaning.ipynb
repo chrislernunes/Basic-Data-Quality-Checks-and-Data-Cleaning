{
 "cells": [
  {
   "cell_type": "code",
   "execution_count": 2,
   "id": "785e4d5b",
   "metadata": {},
   "outputs": [],
   "source": [
    "# Import libraries\n",
    "import pandas as pd\n",
    "import numpy as np\n",
    "import matplotlib.pyplot as plt\n",
    "%matplotlib inline\n",
    "plt.style.use('seaborn-darkgrid')\n",
    "\n",
    "# The data is stored in the directory 'data_modules'\n",
    "path = '/Users/chrislernunes/Desktop/Quantra by Quantinsti/Getting-Market-Data-Resources/data_modules/'\n",
    "\n",
    "# Read the data using read_csv\n",
    "apple_price_data = pd.read_csv(path + 'AAPL.csv', index_col=0)\n",
    "\n",
    "# Set the index to a datetime object\n",
    "apple_price_data.index = pd.to_datetime(apple_price_data.index)"
   ]
  },
  {
   "cell_type": "code",
   "execution_count": 3,
   "id": "4ee51282",
   "metadata": {},
   "outputs": [
    {
     "data": {
      "text/html": [
       "<div>\n",
       "<style scoped>\n",
       "    .dataframe tbody tr th:only-of-type {\n",
       "        vertical-align: middle;\n",
       "    }\n",
       "\n",
       "    .dataframe tbody tr th {\n",
       "        vertical-align: top;\n",
       "    }\n",
       "\n",
       "    .dataframe thead th {\n",
       "        text-align: right;\n",
       "    }\n",
       "</style>\n",
       "<table border=\"1\" class=\"dataframe\">\n",
       "  <thead>\n",
       "    <tr style=\"text-align: right;\">\n",
       "      <th></th>\n",
       "      <th>close</th>\n",
       "      <th>high</th>\n",
       "      <th>low</th>\n",
       "      <th>open</th>\n",
       "      <th>volume</th>\n",
       "    </tr>\n",
       "    <tr>\n",
       "      <th>date</th>\n",
       "      <th></th>\n",
       "      <th></th>\n",
       "      <th></th>\n",
       "      <th></th>\n",
       "      <th></th>\n",
       "    </tr>\n",
       "  </thead>\n",
       "  <tbody>\n",
       "    <tr>\n",
       "      <th>2020-08-28 14:45:00+00:00</th>\n",
       "      <td>500.793</td>\n",
       "      <td>501.490</td>\n",
       "      <td>500.35</td>\n",
       "      <td>500.540</td>\n",
       "      <td>100338.0</td>\n",
       "    </tr>\n",
       "    <tr>\n",
       "      <th>2020-08-28 15:00:00+00:00</th>\n",
       "      <td>502.088</td>\n",
       "      <td>502.240</td>\n",
       "      <td>501.79</td>\n",
       "      <td>501.810</td>\n",
       "      <td>75560.0</td>\n",
       "    </tr>\n",
       "    <tr>\n",
       "      <th>2020-08-28 15:15:00+00:00</th>\n",
       "      <td>501.500</td>\n",
       "      <td>501.559</td>\n",
       "      <td>501.29</td>\n",
       "      <td>501.459</td>\n",
       "      <td>46052.0</td>\n",
       "    </tr>\n",
       "    <tr>\n",
       "      <th>2020-08-28 15:30:00+00:00</th>\n",
       "      <td>504.340</td>\n",
       "      <td>505.410</td>\n",
       "      <td>504.30</td>\n",
       "      <td>504.880</td>\n",
       "      <td>310614.0</td>\n",
       "    </tr>\n",
       "    <tr>\n",
       "      <th>2020-08-28 15:45:00+00:00</th>\n",
       "      <td>498.890</td>\n",
       "      <td>499.730</td>\n",
       "      <td>498.81</td>\n",
       "      <td>499.545</td>\n",
       "      <td>1010884.0</td>\n",
       "    </tr>\n",
       "  </tbody>\n",
       "</table>\n",
       "</div>"
      ],
      "text/plain": [
       "                             close     high     low     open     volume\n",
       "date                                                                   \n",
       "2020-08-28 14:45:00+00:00  500.793  501.490  500.35  500.540   100338.0\n",
       "2020-08-28 15:00:00+00:00  502.088  502.240  501.79  501.810    75560.0\n",
       "2020-08-28 15:15:00+00:00  501.500  501.559  501.29  501.459    46052.0\n",
       "2020-08-28 15:30:00+00:00  504.340  505.410  504.30  504.880   310614.0\n",
       "2020-08-28 15:45:00+00:00  498.890  499.730  498.81  499.545  1010884.0"
      ]
     },
     "execution_count": 3,
     "metadata": {},
     "output_type": "execute_result"
    }
   ],
   "source": [
    "# Display the last five rows\n",
    "# You can also check the first five rows \n",
    "apple_price_data.tail()"
   ]
  },
  {
   "cell_type": "code",
   "execution_count": 4,
   "id": "bba1a287",
   "metadata": {},
   "outputs": [
    {
     "name": "stdout",
     "output_type": "stream",
     "text": [
      "<class 'pandas.core.frame.DataFrame'>\n",
      "DatetimeIndex: 30137 entries, 2016-01-04 09:30:00+00:00 to 2020-08-28 15:45:00+00:00\n",
      "Data columns (total 5 columns):\n",
      " #   Column  Non-Null Count  Dtype  \n",
      "---  ------  --------------  -----  \n",
      " 0   close   30133 non-null  float64\n",
      " 1   high    30137 non-null  float64\n",
      " 2   low     30137 non-null  float64\n",
      " 3   open    30137 non-null  float64\n",
      " 4   volume  30137 non-null  float64\n",
      "dtypes: float64(5)\n",
      "memory usage: 1.4 MB\n"
     ]
    }
   ],
   "source": [
    "# Display the concise summary of the data\n",
    "apple_price_data.info()"
   ]
  },
  {
   "cell_type": "code",
   "execution_count": 5,
   "id": "9f974832",
   "metadata": {},
   "outputs": [
    {
     "data": {
      "text/plain": [
       "close     4\n",
       "high      0\n",
       "low       0\n",
       "open      0\n",
       "volume    0\n",
       "dtype: int64"
      ]
     },
     "execution_count": 5,
     "metadata": {},
     "output_type": "execute_result"
    }
   ],
   "source": [
    "# Display the count of null values\n",
    "apple_price_data.isna().sum()"
   ]
  },
  {
   "cell_type": "code",
   "execution_count": 6,
   "id": "db81a40c",
   "metadata": {},
   "outputs": [
    {
     "name": "stdout",
     "output_type": "stream",
     "text": [
      "Number of rows:  30133\n"
     ]
    },
    {
     "data": {
      "text/plain": [
       "close     0\n",
       "high      0\n",
       "low       0\n",
       "open      0\n",
       "volume    0\n",
       "dtype: int64"
      ]
     },
     "execution_count": 6,
     "metadata": {},
     "output_type": "execute_result"
    }
   ],
   "source": [
    "# Drop the missing values\n",
    "apple_price_data.dropna(inplace=True)\n",
    "\n",
    "# Print the number of rows in the dataframe\n",
    "print('Number of rows: ', apple_price_data.shape[0])\n",
    "\n",
    "# Display the count of null values\n",
    "apple_price_data.isna().sum()"
   ]
  },
  {
   "cell_type": "code",
   "execution_count": 7,
   "id": "5d92656a",
   "metadata": {},
   "outputs": [
    {
     "name": "stdout",
     "output_type": "stream",
     "text": [
      "False    29918\n",
      "True       215\n",
      "dtype: int64\n",
      "Proportion of duplicate values is 0.0071.\n"
     ]
    }
   ],
   "source": [
    "# Display the count of duplicate values\n",
    "print(apple_price_data.duplicated().value_counts())\n",
    "print('Proportion of duplicate values is {}.'.format( \n",
    "      round(apple_price_data.duplicated().value_counts()[1]/apple_price_data.shape[0],\n",
    "            4)))"
   ]
  },
  {
   "cell_type": "code",
   "execution_count": 8,
   "id": "47641be4",
   "metadata": {},
   "outputs": [
    {
     "name": "stdout",
     "output_type": "stream",
     "text": [
      "Number of rows:  29927\n"
     ]
    }
   ],
   "source": [
    "# Drop the consecutive duplicate values\n",
    "apple_price_data = apple_price_data.loc[(apple_price_data['close'].diff() != 0) | \n",
    "                                        (apple_price_data['open'].diff() != 0) |\n",
    "                                        (apple_price_data['high'].diff() != 0) |\n",
    "                                        (apple_price_data['low'].diff() != 0)]\n",
    "\n",
    "# Check the number of rows\n",
    "print(\"Number of rows: \", apple_price_data.shape[0])"
   ]
  },
  {
   "cell_type": "code",
   "execution_count": 9,
   "id": "eb90ca71",
   "metadata": {},
   "outputs": [
    {
     "data": {
      "image/png": "[encoded data removed]",
      "text/plain": [
       "<Figure size 720x504 with 1 Axes>"
      ]
     },
     "metadata": {},
     "output_type": "display_data"
    }
   ],
   "source": [
    "# Calculate the percentage change\n",
    "apple_price_data['returns'] = apple_price_data['close'].pct_change()\n",
    "\n",
    "# Plot the percentage change\n",
    "plt.figure(figsize=(10,7))\n",
    "apple_price_data['returns'].plot()\n",
    "# Set the title and axes label\n",
    "plt.title('Returns', fontsize=14)\n",
    "plt.xlabel('Year', fontsize=12)\n",
    "plt.ylabel('Percentage Change', fontsize=12)\n",
    "# Show the plot\n",
    "plt.show()"
   ]
  },
  {
   "cell_type": "code",
   "execution_count": null,
   "id": "6ddc72e1",
   "metadata": {},
   "outputs": [],
   "source": []
  }
 ],
 "metadata": {
  "kernelspec": {
   "display_name": "Python 3 (ipykernel)",
   "language": "python",
   "name": "python3"
  },
  "language_info": {
   "codemirror_mode": {
    "name": "ipython",
    "version": 3
   },
   "file_extension": ".py",
   "mimetype": "text/x-python",
   "name": "python",
   "nbconvert_exporter": "python",
   "pygments_lexer": "ipython3",
   "version": "3.7.13"
  }
 },
 "nbformat": 4,
 "nbformat_minor": 5
}
